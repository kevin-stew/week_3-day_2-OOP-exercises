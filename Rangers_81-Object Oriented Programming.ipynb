{
 "cells": [
  {
   "cell_type": "markdown",
   "metadata": {},
   "source": [
    "# Object-Oriented-Programming (OOP)"
   ]
  },
  {
   "cell_type": "markdown",
   "metadata": {},
   "source": [
    "## Tasks Today:\n",
    "\n",
    "   \n",
    "\n",
    "1) <b>Creating a Class (Initializing/Declaring)</b> <br>\n",
    "2) <b>Using a Class (Instantiating)</b> <br>\n",
    " &nbsp;&nbsp;&nbsp;&nbsp; a) Creating One Instance <br>\n",
    " &nbsp;&nbsp;&nbsp;&nbsp; b) Creating Multiple Instances <br>\n",
    " &nbsp;&nbsp;&nbsp;&nbsp; c) In-Class Exercise #1 - Create a Class 'Car' and instantiate three different makes of cars <br>\n",
    "3) <b>The \\__init\\__() Method</b> <br>\n",
    " &nbsp;&nbsp;&nbsp;&nbsp; a) The 'self' Attribute <br>\n",
    "4) <b>Class Attributes</b> <br>\n",
    " &nbsp;&nbsp;&nbsp;&nbsp; a) Initializing Attributes <br>\n",
    " &nbsp;&nbsp;&nbsp;&nbsp; b) Setting an Attribute Outside of the \\__init\\__() Method <br>\n",
    " &nbsp;&nbsp;&nbsp;&nbsp; c) Setting Defaults for Attributes <br>\n",
    " &nbsp;&nbsp;&nbsp;&nbsp; d) Accessing Class Attributes <br>\n",
    " &nbsp;&nbsp;&nbsp;&nbsp; e) Changing Class Attributes <br>\n",
    " &nbsp;&nbsp;&nbsp;&nbsp; f) In-Class Exercise #2 - Add a color and wheels attribute to your 'Car' class <br>\n",
    "5) <b>Class Methods</b> <br>\n",
    " &nbsp;&nbsp;&nbsp;&nbsp; a) Creating <br>\n",
    " &nbsp;&nbsp;&nbsp;&nbsp; b) Calling <br>\n",
    " &nbsp;&nbsp;&nbsp;&nbsp; c) Modifying an Attribute's Value Through a Method <br>\n",
    " &nbsp;&nbsp;&nbsp;&nbsp; d) Incrementing an Attribute's Value Through a Method <br>\n",
    " &nbsp;&nbsp;&nbsp;&nbsp; e) In-Class Exercise #3 - Add a method that prints the cars color and wheel number, then call them <br>\n",
    "6) <b>Inheritance</b> <br>\n",
    " &nbsp;&nbsp;&nbsp;&nbsp; a) Syntax for Inheriting from a Parent Class <br>\n",
    " &nbsp;&nbsp;&nbsp;&nbsp; b) The \\__init\\__() Method for a Child Class (super()) <br>\n",
    " &nbsp;&nbsp;&nbsp;&nbsp; c) Defining Attributes and Methods for the Child Class <br>\n",
    " &nbsp;&nbsp;&nbsp;&nbsp; d) Method Overriding <br>\n",
    " &nbsp;&nbsp;&nbsp;&nbsp; e) In-Class Exercise #4 - Create a class 'Ford' that inherits from 'Car' class and initialize it as a Blue Ford Explorer with 4 wheels using the super() method <br>\n",
    "7) <b>Classes as Attributes</b> <br>\n",
    "8) <b>Exercises</b> <br>\n",
    " &nbsp;&nbsp;&nbsp;&nbsp; a) Exercise #1 - Turn the shopping cart program from last week into an object-oriented program <br>"
   ]
  },
  {
   "cell_type": "markdown",
   "metadata": {},
   "source": [
    "## Creating a Class (Initializing/Declaring)\n",
    "<p>When creating a class, function, or even a variable you are initializing that object. Initializing and Declaring occur at the same time in Python, whereas in lower level languages you have to declare an object before initializing it. This is the first step in the process of using a class.</p>"
   ]
  },
  {
   "cell_type": "code",
   "execution_count": null,
   "metadata": {},
   "outputs": [],
   "source": [
    "class Car():\n",
    "    wheels = 4\n",
    "    color = 'blue'"
   ]
  },
  {
   "cell_type": "markdown",
   "metadata": {},
   "source": [
    "## Using a Class (Instantiating)\n",
    "<p>The process of creating a class is called <i>Instantiating</i>. Each time you create a variable of that type of class, it is referred to as an <i>Instance</i> of that class. This is the second step in the process of using a class.</p>"
   ]
  },
  {
   "cell_type": "markdown",
   "metadata": {},
   "source": [
    "##### Creating One Instance"
   ]
  },
  {
   "cell_type": "code",
   "execution_count": null,
   "metadata": {},
   "outputs": [],
   "source": [
    "ford = Car()\n",
    "mazda = Car()\n",
    "honda = Car()\n"
   ]
  },
  {
   "cell_type": "markdown",
   "metadata": {},
   "source": [
    "##### Creating Multiple Instances"
   ]
  },
  {
   "cell_type": "code",
   "execution_count": null,
   "metadata": {},
   "outputs": [],
   "source": [
    "porsche = Car()\n",
    "print(porsche.wheels)\n",
    "print(porsche.color)"
   ]
  },
  {
   "cell_type": "markdown",
   "metadata": {},
   "source": [
    "##### In-Class Exercise #1 - Create a Class 'Car' and Instantiate three different makes of cars"
   ]
  },
  {
   "cell_type": "code",
   "execution_count": null,
   "metadata": {},
   "outputs": [],
   "source": [
    "toyota = Car()\n",
    "chevey = Car()\n",
    "ford = Car()"
   ]
  },
  {
   "cell_type": "markdown",
   "metadata": {},
   "source": [
    "## The \\__init\\__() Method <br>\n",
    "<p>This method is used in almost every created class, and called only once upon the creation of the class instance. This method will initialize all variables needed for the object.</p>"
   ]
  },
  {
   "cell_type": "code",
   "execution_count": null,
   "metadata": {},
   "outputs": [],
   "source": [
    "class Car():\n",
    "    engine = '4.7L'\n",
    "    def __init__(self, wheels, color): #'self' is place holder\n",
    "        self.wheels = wheels\n",
    "        self.color = color\n",
    "        \n",
    "ford = Car(4, 'red')\n",
    "\n",
    "print(ford.wheels, ford.color)\n",
    "\n",
    "ford.__dict__  # not sure what this does\n",
    "\n",
    "chevy_lumina = Car(4, 'cyan')\n",
    "print(chevy_lumina.color)\n",
    "\n",
    "        "
   ]
  },
  {
   "cell_type": "markdown",
   "metadata": {},
   "source": [
    "##### The 'self' Attribute <br>\n",
    "<p>This attribute is required to keep track of specific instance's attributes. Without the self attribute, the program would not know how to reference or keep track of an instance's attributes.</p>"
   ]
  },
  {
   "cell_type": "code",
   "execution_count": null,
   "metadata": {},
   "outputs": [],
   "source": [
    "# see above"
   ]
  },
  {
   "cell_type": "markdown",
   "metadata": {},
   "source": [
    "## Class Attributes <br>\n",
    "<p>While variables are inside of a class, they are referred to as attributes and not variables. When someone says 'attribute' you know they're speaking about a class. Attributes can be initialized through the init method, or outside of it.</p>"
   ]
  },
  {
   "cell_type": "markdown",
   "metadata": {},
   "source": [
    "##### Initializing Attributes"
   ]
  },
  {
   "cell_type": "code",
   "execution_count": null,
   "metadata": {},
   "outputs": [],
   "source": [
    "class Toy():\n",
    "    TYPE = \"pet rock\" #constan attribute.  \n",
    "                      #all caps are used for these, you CAN change it, but you SHOULDN'T.\n",
    "    \n",
    "    def __init__(self, name, color, size, texture, elmo_hate=None):\n",
    "        self.name = name\n",
    "        self.color = color\n",
    "        self.size = size\n",
    "        self.texture = texture\n",
    "        \n",
    "        if elmo_hate == None:            # best practice for dealing with default attribute values (from Terrell)\n",
    "            self.elmo_hate = False       #\n",
    "        else:\n",
    "            self.elmo_hate = elmo_hate   #\n",
    "        \n",
    "pet_rock1 = Toy('Rocco', 'grey', 'large', 'bumpy', True)\n",
    "\n",
    "print(pet_rock1.name)"
   ]
  },
  {
   "cell_type": "markdown",
   "metadata": {},
   "source": [
    "##### Accessing Class Attributes"
   ]
  },
  {
   "cell_type": "code",
   "execution_count": null,
   "metadata": {
    "scrolled": true
   },
   "outputs": [],
   "source": [
    "# See Above\n",
    "print(pet_rock1.name)\n",
    "print(pet_rock1.color)\n",
    "print(pet_rock1.size)\n",
    "print(pet_rock1.elmo_hate)"
   ]
  },
  {
   "cell_type": "markdown",
   "metadata": {},
   "source": [
    "##### Setting Defaults for Attributes"
   ]
  },
  {
   "cell_type": "code",
   "execution_count": null,
   "metadata": {},
   "outputs": [],
   "source": [
    "class Car():\n",
    "    ENGINE = '4.7L' #constant attribute - cannot be changed!\n",
    "    \n",
    "    def __init__(self, wheels):\n",
    "        self.wheels = wheels\n",
    "        self.color = 'blue' #default attribute\n",
    "        self.doors = 4\n",
    "        self.seats = 5\n",
    "        \n",
    "honda = Car(4)\n",
    "jeep = Car(4)\n",
    "\n",
    "print(honda.wheels)\n",
    "print(honda.color)\n",
    "print(jeep.color)\n"
   ]
  },
  {
   "cell_type": "markdown",
   "metadata": {},
   "source": [
    "##### Changing Class Attributes <br>\n",
    "<p>Keep in mind there are global class attributes and then there are attributes only available to each class instance which won't effect other classes.</p>"
   ]
  },
  {
   "cell_type": "code",
   "execution_count": null,
   "metadata": {},
   "outputs": [],
   "source": [
    "#changing default attribute\n",
    "print(f\"Before the change jeep color is: {jeep.color}\")\n",
    "\n",
    "jeep.color = \"White\"\n",
    "print(f\"\\nAfter the Change: {jeep.color}\")\n",
    "\n",
    "jeep.wheels = 6\n",
    "print(f\"\\nUpdated jeep wheel count: {jeep.wheels}\")"
   ]
  },
  {
   "cell_type": "code",
   "execution_count": null,
   "metadata": {},
   "outputs": [],
   "source": []
  },
  {
   "cell_type": "markdown",
   "metadata": {},
   "source": [
    "##### In-Class Exercise #2 - Add a doors and seats attribute to your 'Car' class then print out two different instances with different doors and seats"
   ]
  },
  {
   "cell_type": "code",
   "execution_count": null,
   "metadata": {},
   "outputs": [],
   "source": [
    "print(honda.seats)\n",
    "print(honda.doors)\n",
    "honda.doors = 7\n",
    "print(honda.doors)"
   ]
  },
  {
   "cell_type": "markdown",
   "metadata": {},
   "source": [
    "## Class Methods <br>\n",
    "<p>While inside of a class, functions are referred to as 'methods'. If you hear someone mention methods, they're speaking about classes. Methods are essentially functions, but only callable on the instances of a class.</p>"
   ]
  },
  {
   "cell_type": "markdown",
   "metadata": {},
   "source": [
    "##### Creating"
   ]
  },
  {
   "cell_type": "code",
   "execution_count": null,
   "metadata": {},
   "outputs": [],
   "source": [
    "class Bus():\n",
    "    \"\"\"\n",
    "    The will have doors, total number of seats, seats currently available, color, and a bus driver\n",
    "    \n",
    "    Attributes for the class:\n",
    "    -doors: int\n",
    "    -seats: int\n",
    "    -seats_available: int\n",
    "    -but_driver: string\n",
    "    \"\"\"\n",
    "    \n",
    "    def __init__(self, doors, seats, seats_available, color, bus_driver):\n",
    "        self.doors = doors\n",
    "        self.seats = seats\n",
    "        self.seats_available = seats_available\n",
    "        self.color = color\n",
    "        self.bus_driver = bus_driver\n",
    "        \n",
    "    # decriment the number of seats available\n",
    "    def load_passeners(self):   \n",
    "        if self.seats_available <= 0:\n",
    "            print(\"This bus is full! No seats are availabe to accept new passengers!\")\n",
    "        else:\n",
    "            passengers = int(input(\"How many passenger are getting on?\"))\n",
    "            self.seats_available -= passengers\n",
    "            print(f\"{passengers} seats have been taken. There are {self.seats_available} seats available.\")\n",
    "            \n",
    "    # increment number of seats available\n",
    "    def unload_passengers(self):\n",
    "        if self.seats_available == self.seats:\n",
    "            print(\"THere's no on left to get off the bus!\")\n",
    "        else:\n",
    "            unload = int(input(\"How many passengers are getting off the bus? \"))\n",
    "            self.seats_available += unload\n",
    "            print(f\"{unload} passengers have gotten off and there are \" +\n",
    "                 \"{self.seats_available} seats and there are seats available.\")\n",
    "            \n",
    "    # modify an attribute value\n",
    "    def change_driver(self):\n",
    "        change = input(\"Who is replacing you?\")\n",
    "        self.bus_driver = change\n",
    "        print(f\"The new bus driver is {self.bus_driver}\")\n",
    "    \n",
    "    # print out current available seat count\n",
    "    def check_seats(self):\n",
    "        print(f\"These many seats are available: {self.seats_available}\")\n",
    "        \n",
    "\n",
    "#step 1: make a new bus\n",
    "ryan_bus = Bus(2, 90, 45, 'yellow', 'Ryan')\n",
    "\n",
    "        \n",
    "        "
   ]
  },
  {
   "cell_type": "markdown",
   "metadata": {},
   "source": [
    "##### Calling"
   ]
  },
  {
   "cell_type": "code",
   "execution_count": null,
   "metadata": {},
   "outputs": [],
   "source": [
    "def run_bus():\n",
    "    while True:\n",
    "        response = input(\"What would you like to do? Load/Unload/Change Driver/Check Seats/Quit\")\n",
    "        if response.lower() == 'quit':\n",
    "            print(\"Oh no! There are still passengers to be picked up :(\")\n",
    "            break\n",
    "        elif response.lower == \"load\":\n",
    "            ryan_bus.load_passeners()\n",
    "        elif response.lower() == \"unload\":\n",
    "            ryan_bus.unload_passengers()\n",
    "        elif response.lower() == \"change driver\":\n",
    "            ryan_bus.change_driver()\n",
    "        elif response.lower() == \"check seats\":\n",
    "            ryan_bus.check_seats()\n",
    "            \n",
    "run_bus()"
   ]
  },
  {
   "cell_type": "markdown",
   "metadata": {},
   "source": [
    "##### Modifying an Attribute's Value Through a Method"
   ]
  },
  {
   "cell_type": "code",
   "execution_count": null,
   "metadata": {},
   "outputs": [],
   "source": []
  },
  {
   "cell_type": "markdown",
   "metadata": {},
   "source": [
    "##### Incrementing an Attribute's Value Through a Method"
   ]
  },
  {
   "cell_type": "code",
   "execution_count": null,
   "metadata": {},
   "outputs": [],
   "source": []
  },
  {
   "cell_type": "markdown",
   "metadata": {},
   "source": [
    "##### In-Class Exercise #3 - Add a method that takes in three parameters of year, doors and seats and prints out a formatted print statement with make, model, year, seats, and doors"
   ]
  },
  {
   "cell_type": "code",
   "execution_count": null,
   "metadata": {},
   "outputs": [],
   "source": [
    "# Output: This car is from 2019 and is a Ford Expolorer and has 4 doors and 5 seats\n",
    "class Car():\n",
    "    \n",
    "    def __init__(self, make, model, wheels, color, doors, seats, year):\n",
    "        # Create class with 2 paramters inside of the __init__ which are make and model\n",
    "        self.make = make\n",
    "        self.model = model\n",
    "        self.wheels = wheels\n",
    "        self.color = color\n",
    "        # Inside of the Car class create a method that has 4 parameter in total (self,year,door,seats)\n",
    "        self.doors = doors\n",
    "        self.seats = seats\n",
    "        self.year = year\n",
    "        \n",
    "    def basic_info(self):\n",
    "        print(f\"This car is from {self.year} and is a {self.make.title()} {self.model.title()} and has {self.doors} doors and {self.seats} seats.\")\n",
    "        \n",
    "my_ford = Car('ford', 'fiesta', 4, 'green', 4, 5, 1999)\n",
    "\n",
    "# print(my_ford.make, my_ford.model, my_ford.wheels, my_ford.color, my_ford.doors, my_ford.seats, my_ford.year)\n",
    "\n",
    "my_ford.basic_info()\n",
    "\n",
    "\n",
    "\n",
    "\n",
    "\n",
    "\n",
    "\n",
    "\n"
   ]
  },
  {
   "cell_type": "markdown",
   "metadata": {},
   "source": [
    "## Inheritance <br>\n",
    "<p>You can create a child-parent relationship between two classes by using inheritance. What this allows you to do is have overriding methods, but also inherit traits from the parent class. Think of it as an actual parent and child, the child will inherit the parent's genes, as will the classes in OOP</p>"
   ]
  },
  {
   "cell_type": "markdown",
   "metadata": {},
   "source": [
    "##### Syntax for Inheriting from a Parent Class"
   ]
  },
  {
   "cell_type": "code",
   "execution_count": null,
   "metadata": {},
   "outputs": [],
   "source": [
    "#creat our Parent Class -- Animal\n",
    "class Animal():\n",
    "#\"\"\"parent animal class\"\"\"\n",
    "#     ACCELERATION = 9.8\n",
    "    \n",
    "    def __init__(self, name, species, legs=4):\n",
    "        self.name = name\n",
    "        self.species = species\n",
    "        self.legs = legs\n",
    "        \n",
    "        # generic parent (animal) method -- no overide\n",
    "    def makeSound(self):\n",
    "        print(\"reeeeeeee\")\n",
    "            \n",
    "class Dog(Animal):\n",
    "#\"\"\"child animal class\"\"\"\n",
    "    SPEED = 15\n",
    "    \n",
    "    def printInfo(self):\n",
    "        print(f\"The dog runs at {SPEED}mph and accelerates at {ACCELERATION}\")\n",
    "        \n",
    "# class Mut(Dog)\n",
    "# #\"\"\"grandchild animal class\"\"\"\n",
    "#     COLOR = 'black & brown'\n",
    "    \n",
    "#     #overide the Animal class __init__ method by way of using Dog class\n",
    "#     Dog.__init__(self, name, species, legs)\n",
    "#     self.eye_color = eye_color\n",
    "    \n",
    "#     # override the makeSound method from the parent Animal class\n",
    "#     def makeSound(self):\n",
    "#         print(\"ruff ruff ruff\")\n"
   ]
  },
  {
   "cell_type": "code",
   "execution_count": null,
   "metadata": {},
   "outputs": [],
   "source": [
    "cheetah = Animal('Chester', 'cheetah')\n"
   ]
  },
  {
   "cell_type": "markdown",
   "metadata": {},
   "source": [
    "##### The \\__init\\__() Method for a Child Class - super()"
   ]
  },
  {
   "cell_type": "code",
   "execution_count": null,
   "metadata": {
    "scrolled": true
   },
   "outputs": [],
   "source": [
    "class Mut(Dog):\n",
    "    color = 'black & brown'\n",
    "    \n",
    "    #overriding the Animal class __init__ with the super().__init__\n",
    "    def __init__(self, name, species, eye_color, legs=4):\n",
    "        super().__init__(name, species, legs)\n",
    "        self.eye_colof = eye_color"
   ]
  },
  {
   "cell_type": "markdown",
   "metadata": {},
   "source": [
    "##### Defining Attributes and Methods for the Child Class"
   ]
  },
  {
   "cell_type": "code",
   "execution_count": null,
   "metadata": {},
   "outputs": [],
   "source": [
    "# See Above"
   ]
  },
  {
   "cell_type": "markdown",
   "metadata": {},
   "source": [
    "##### Method Overriding"
   ]
  },
  {
   "cell_type": "code",
   "execution_count": null,
   "metadata": {},
   "outputs": [],
   "source": [
    "# See Above"
   ]
  },
  {
   "cell_type": "markdown",
   "metadata": {},
   "source": [
    "## Classes as Attributes <br>\n",
    "<p>Classes can also be used as attributes within another class. This is useful in situations where you need to keep variables locally stored, instead of globally stored.</p>"
   ]
  },
  {
   "cell_type": "code",
   "execution_count": null,
   "metadata": {},
   "outputs": [],
   "source": [
    "class Battery():\n",
    "    VOLTZ: 7.8\n",
    "        \n",
    "    def __init__(self, cells):\n",
    "        self.cells = cells\n",
    "        \n",
    "class Car():\n",
    "    def __init__(self, year, make, model, battery):\n",
    "        self.year = year\n",
    "        self.make = make\n",
    "        self.model = model\n",
    "        self.battery = battery\n",
    "        \n",
    "    def printInfo(self):\n",
    "        return f\"{self.year} {self.make} {self.model} {self.battery.cells}\"\n",
    "    \n",
    "battery = Battery(20)\n",
    "\n",
    "tesla_model_S_plaid = Car(2019, 'Tesla', 'Model S', battery)\n",
    "\n",
    "print(tesla_model_S_plaid.battery.cells)"
   ]
  },
  {
   "cell_type": "markdown",
   "metadata": {},
   "source": [
    "# Exercises"
   ]
  },
  {
   "cell_type": "markdown",
   "metadata": {},
   "source": [
    "### Exercise 1 - Turn the shopping cart program from yesterday into an object-oriented program\n",
    "\n",
    "The comments in the cell below are there as a guide for thinking about the problem. However, if you feel a different way is best for you and your own thought process, please do what feels best for you by all means."
   ]
  },
  {
   "cell_type": "code",
   "execution_count": 29,
   "metadata": {},
   "outputs": [
    {
     "name": "stdout",
     "output_type": "stream",
     "text": [
      "\n",
      "---------Welcome to Shopping Cart 8000----------\n",
      "\n",
      "Whilst shopping you can:\n",
      "\n",
      "COMMAND | ACTION TAKEN\n",
      "------------------------------------------------\n",
      "  view  | View items in your cart.\n",
      "   add  | Add an item with quantity to your cart.\n",
      "remove  | Remove an item from your cart.\n",
      "  quit  | Exit the store / this program.     \n",
      "\n",
      "What would you like to do? view\n",
      "Curretnly you have these items in your cart: \n",
      "Gatorade Lite x 7 quantity\n",
      "What would you like to do? add\n",
      "Enter a grocery item to add to your cart: taters\n",
      "Enter the quanity of that item you'd like to purchase: 4\n",
      "What would you like to do? add\n",
      "Enter a grocery item to add to your cart: apples\n",
      "Enter the quanity of that item you'd like to purchase: 5\n",
      "What would you like to do? add\n",
      "Enter a grocery item to add to your cart: hammers\n",
      "Enter the quanity of that item you'd like to purchase: 2\n",
      "What would you like to do? remove\n",
      "Which item would you like to remove? hammers\n",
      "What would you like to do? view\n",
      "Curretnly you have these items in your cart: \n",
      "Gatorade Lite x 7 quantity\n",
      "Taters x 4 quantity\n",
      "Apples x 5 quantity\n",
      "What would you like to do? quit\n",
      "Goodbye!\n"
     ]
    }
   ],
   "source": [
    "# Create a class called cart that retains items and has methods to add, remove, and show\n",
    "\n",
    "class Cart():\n",
    "    def __init__(self):\n",
    "        self.cart_content = {'Gatorade Lite': 7}\n",
    "        \n",
    "    def show_cart(self):\n",
    "        print(\"Curretnly you have these items in your cart: \")\n",
    "        for k,v in self.cart_content.items():\n",
    "            print(k.title() + \" x \" + str(v) + \" quantity\")\n",
    "        \n",
    "    def add_items(self):\n",
    "        new_item = input(\"Enter a grocery item to add to your cart: \")\n",
    "        quantity_item = int(input(\"Enter the quanity of that item you'd like to purchase: \"))\n",
    "        #add item to the cart dict\n",
    "        self.cart_content[new_item] = quantity_item\n",
    "        \n",
    "    def remove_items(self):\n",
    "        item_to_remove = input(\"Which item would you like to remove? \")\n",
    "        self.cart_content.pop(item_to_remove)\n",
    "        \n",
    "cart1 = Cart()\n",
    "\n",
    "def go_shopping():\n",
    "#     possible_actions = ['view', 'add', 'remove', 'quit']\n",
    "    \n",
    "    print(\"\"\"\n",
    "---------Welcome to Shopping Cart 8000----------\n",
    "\n",
    "Whilst shopping you can:\n",
    "\n",
    "COMMAND | ACTION TAKEN\n",
    "------------------------------------------------\n",
    "  view  | View items in your cart.\n",
    "   add  | Add an item with quantity to your cart.\n",
    "remove  | Remove an item from your cart.\n",
    "  quit  | Exit the store / this program.     \n",
    "\"\"\")    \n",
    "    \n",
    "    while True:\n",
    "        action = input(\"What would you like to do? \")\n",
    "        if action == 'quit':\n",
    "            print(\"Goodbye!\")\n",
    "            break\n",
    "            \n",
    "        elif action == 'view':\n",
    "            cart1.show_cart()\n",
    "            \n",
    "        elif action == 'add':\n",
    "            cart1.add_items()\n",
    "            \n",
    "        elif action == 'remove':\n",
    "            cart1.remove_items()\n",
    "        \n",
    "        else:\n",
    "            print(\"Sorry, didn't understand that. Please try again: \")\n",
    "\n",
    "go_shopping()"
   ]
  },
  {
   "cell_type": "markdown",
   "metadata": {},
   "source": []
  },
  {
   "cell_type": "markdown",
   "metadata": {},
   "source": [
    "### Exercise 2 - Write a Python class which has two methods get_String and print_String. \n",
    "get_String accepts a string from the user, and print_String prints the string in upper case."
   ]
  },
  {
   "cell_type": "code",
   "execution_count": 12,
   "metadata": {},
   "outputs": [
    {
     "name": "stdout",
     "output_type": "stream",
     "text": [
      "\n",
      "--------Welcome to String Processor 2500--------\n",
      "\n",
      " Here you may:\n",
      "     -Enter a string\n",
      "     -Print your string\n",
      "    \n",
      "                     \n",
      "                        \n",
      "\n",
      " What would you like to do? : enter / print / quit\n",
      " enter\n",
      "Please enter a string: I have two toes and some teeth\n",
      "                     \n",
      "                        \n",
      "\n",
      " What would you like to do? : enter / print / quit\n",
      " print\n",
      "The current user defined string reads: I have two toes and some teeth\n",
      "                     \n",
      "                        \n",
      "\n",
      " What would you like to do? : enter / print / quit\n",
      " enter\n",
      "Please enter a string: this is a new string\n",
      "                     \n",
      "                        \n",
      "\n",
      " What would you like to do? : enter / print / quit\n",
      " quit\n",
      "Ciao!\n"
     ]
    }
   ],
   "source": [
    "class Strings():\n",
    "    \"\"\"A class that processes strings from users\"\"\"\n",
    "    def __init__(self, user_string):\n",
    "        self.user_string = user_string\n",
    "    \n",
    "    def get_String(self):\n",
    "        self.user_string = input(\"Please enter a string: \")\n",
    "    \n",
    "    def print_String(self):\n",
    "        print(\"The current user defined string reads: \" + self.user_string)\n",
    "        \n",
    "string1 = Strings(\" \")\n",
    "\n",
    "def run_strings():\n",
    "    possible_actions = ['enter', 'quit', 'print']\n",
    "    \n",
    "    print(\"\"\"\n",
    "--------Welcome to String Processor 2500--------\n",
    "\n",
    " Here you may:\n",
    "     -Enter a string\n",
    "     -Print your string\n",
    "    \"\"\")\n",
    "    \n",
    "    while True:\n",
    "        action = input(\"What would you like to do? : enter / print / quit\")\n",
    "        if action == 'quit':\n",
    "            print(\"Ciao!\")\n",
    "            break\n",
    "\n",
    "        elif action == 'enter':\n",
    "            string1.get_String()\n",
    "\n",
    "        elif action == 'print':\n",
    "            string1.print_String()\n",
    "\n",
    "        elif action not in possible_actions:\n",
    "            print(\"!!***Does not compute***!!\")\n",
    "\n",
    "run_strings()\n",
    "        "
   ]
  },
  {
   "cell_type": "markdown",
   "metadata": {},
   "source": [
    "\n",
    "### Exercise 4\n",
    "Create a class that has at least 3 attributes. One must be a list or a dictionary.\n",
    "\n",
    "The class must also have 3 methods, one that adds to the list or dictionary, one that alters an attributes value, and one that does whatever you want it to do."
   ]
  },
  {
   "cell_type": "code",
   "execution_count": 13,
   "metadata": {},
   "outputs": [
    {
     "name": "stdout",
     "output_type": "stream",
     "text": [
      "Supper office worker guy's sectret identity is Jim.  His weakness is The Stapler.\n",
      "Enter a new superpower (character can't have more than 3): mind reading\n",
      "Supper office worker guy's sectret identity is Jim.  His weakness is The Stapler.\n",
      "Supper office worker guy's super powers are: \n",
      "Mind Reading\n"
     ]
    }
   ],
   "source": [
    "class Super_hero():\n",
    "    \n",
    "    def __init__(self, name, secret_identity, weakness):\n",
    "        self.name = name\n",
    "        self.powers = []\n",
    "        self.secret_identity = secret_identity\n",
    "        self.weakness = weakness\n",
    "        \n",
    "    def basicInfo(self):\n",
    "        print(f\"{self.name}'s sectret identity is {self.secret_identity}.  His weakness is {self.weakness}.\")\n",
    "        if len(self.powers) > 0: \n",
    "            print(f\"{self.name}'s super powers are: \")\n",
    "            for power in self.powers: \n",
    "                print(power.title())\n",
    "\n",
    "    def view_powers(self):\n",
    "        print(self.powers)\n",
    "                \n",
    "    def add_power(self):\n",
    "        if len(self.powers) <= 3:\n",
    "            new_power = input(\"Enter a new superpower (character can't have more than 3): \")\n",
    "            self.powers.append(new_power)\n",
    "        else: \n",
    "            print(f\"{self.name} already has 3 super powers and cannot have more.\")        \n",
    "        \n",
    "    def change_power(self):\n",
    "        power_to_change = input(\"Enter power to change: \")\n",
    "        if power_to_change in self.powers:\n",
    "            self.powers.remove(power_to_change)\n",
    "            replacement_power = input(\"Enter replacement power: \")\n",
    "            self.powers.append(replacement_power)\n",
    "\n",
    "character1 = Super_hero('Supper office worker guy', 'Jim', 'The Stapler')\n",
    "\n",
    "character1.basicInfo()\n",
    "character1.add_power()\n",
    "character1.basicInfo()\n"
   ]
  },
  {
   "cell_type": "code",
   "execution_count": null,
   "metadata": {},
   "outputs": [],
   "source": []
  }
 ],
 "metadata": {
  "kernelspec": {
   "display_name": "Python 3 (ipykernel)",
   "language": "python",
   "name": "python3"
  },
  "language_info": {
   "codemirror_mode": {
    "name": "ipython",
    "version": 3
   },
   "file_extension": ".py",
   "mimetype": "text/x-python",
   "name": "python",
   "nbconvert_exporter": "python",
   "pygments_lexer": "ipython3",
   "version": "3.9.7"
  }
 },
 "nbformat": 4,
 "nbformat_minor": 2
}
